{
 "cells": [
  {
   "cell_type": "markdown",
   "id": "b069400a",
   "metadata": {},
   "source": [
    "#### Codigo de prueba: Leer COM4 raw a 115200 baudios"
   ]
  },
  {
   "cell_type": "code",
   "execution_count": null,
   "id": "fb3c60d1",
   "metadata": {
    "vscode": {
     "languageId": "plaintext"
    }
   },
   "outputs": [],
   "source": [
    "import serial\n",
    "\n",
    "COM_PORT = 'COM4'     # Change this to your actual port\n",
    "BAUD_RATE = 115200      # Match your device's baud rate\n",
    "\n",
    "def main():\n",
    "    try:\n",
    "        with serial.Serial(COM_PORT, BAUD_RATE, timeout=1) as ser:\n",
    "            print(f\"Reading raw data from {COM_PORT}...\\n(Press Ctrl+C to stop)\\n\")\n",
    "            while True:\n",
    "                line = ser.readline().decode('utf-8', errors='ignore').strip()\n",
    "                if line:\n",
    "                    print(\"Raw line:\", line)\n",
    "    except serial.SerialException as e:\n",
    "        print(f\"Error: {e}\")\n",
    "    except KeyboardInterrupt:\n",
    "        print(\"\\nStopped by user.\")\n",
    "\n",
    "if __name__ == \"__main__\":\n",
    "    main()\n"
   ]
  }
 ],
 "metadata": {
  "language_info": {
   "name": "python"
  }
 },
 "nbformat": 4,
 "nbformat_minor": 5
}
